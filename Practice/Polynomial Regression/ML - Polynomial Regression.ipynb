{
 "cells": [
  {
   "cell_type": "markdown",
   "metadata": {
    "colab_type": "text",
    "id": "hPP_mVT-Xk6X"
   },
   "source": [
    "<h3>Linear regression with Polynomial</h3>\n",
    "\n",
    "\n",
    "#### Aims \n",
    "\n",
    "* Practice general linear regression with polynomial and RBF \n",
    "* Choose the order of polynomials with cross validation\n",
    "* Practice ridge regression\n",
    "* Implement cross-validation to choose the right polynoimal order\n",
    "* Test polynoimal regression and cross-validation on new data where the true order is known\n",
    "* Test ridge regression\n",
    "* Test linear regression with the RBF"
   ]
  },
  {
   "cell_type": "code",
   "execution_count": 3,
   "metadata": {
    "colab": {},
    "colab_type": "code",
    "id": "WgQaL0rgXk6Z"
   },
   "outputs": [
    {
     "name": "stdout",
     "output_type": "stream",
     "text": [
      "(27, 1)\n",
      "(27, 1)\n"
     ]
    }
   ],
   "source": [
    "import numpy as np \n",
    "%matplotlib inline\n",
    "import pylab as plt\n",
    "\n",
    "data = np.loadtxt('olympic100m.txt', delimiter=',') # make sure olympic100m.txt is in the right folder\n",
    "x = data[:,0][:,None] # make x a matrix\n",
    "t = data[:,1][:,None] # make t a column vector \n",
    "\n",
    "print(x.shape)\n",
    "print(t.shape)"
   ]
  },
  {
   "cell_type": "markdown",
   "metadata": {
    "colab_type": "text",
    "id": "Prj3PGDfXk6c"
   },
   "source": [
    "#### Perform Polynomial Regression on the Olympic data\n",
    "\n",
    "#### Rescale $x$ \n",
    "Rescale $x$ to make it small. Doing so will stablise the computation, otherwise it quickly becomes unfeasible to fit polynomials over ~$2000$. "
   ]
  },
  {
   "cell_type": "code",
   "execution_count": 8,
   "metadata": {
    "colab": {},
    "colab_type": "code",
    "id": "UtjsxuaoXk6d"
   },
   "outputs": [],
   "source": [
    "def transform(x):\n",
    "    re_x = (x-np.mean(x))/np.std(x)\n",
    "    return re_x"
   ]
  },
  {
   "cell_type": "code",
   "execution_count": 9,
   "metadata": {
    "colab": {},
    "colab_type": "code",
    "id": "LxKO7rOiXk6f",
    "outputId": "099f3504-a4e3-4163-dd8e-97c9859efdbf",
    "scrolled": true
   },
   "outputs": [
    {
     "data": {
      "text/plain": [
       "Text(0, 0.5, 'Time (seconds)')"
      ]
     },
     "execution_count": 9,
     "metadata": {},
     "output_type": "execute_result"
    },
    {
     "data": {
      "image/png": "[encoded data removed]",
      "text/plain": [
       "<Figure size 432x288 with 1 Axes>"
      ]
     },
     "metadata": {
      "needs_background": "light"
     },
     "output_type": "display_data"
    }
   ],
   "source": [
    "x = transform(x) # rescale x here\n",
    "plt.plot(x, t, 'ro')\n",
    "plt.xlabel('Rescaled years')\n",
    "plt.ylabel('Time (seconds)')"
   ]
  },
  {
   "cell_type": "markdown",
   "metadata": {
    "colab_type": "text",
    "id": "zZwJ6q-fXk6i"
   },
   "source": [
    "#### construct the design matrix with polynomials\n",
    "\n",
    "$$\\mathbf{X} = \\begin{bmatrix}\n",
    "    1       & x_{1} & x_{1}^2 & \\dots & x_{1}^K \\\\\n",
    "    1       & x_{2} & x_{2} & \\dots & x_{2}^K \\\\\n",
    "    \\vdots & \\vdots &\\vdots &\\ddots &\\vdots\\\\\n",
    "    1       & x_{N} & x_{N}^2 & \\dots & x_{N}^K\n",
    "\\end{bmatrix} $$"
   ]
  },
  {
   "cell_type": "code",
   "execution_count": 10,
   "metadata": {
    "colab": {},
    "colab_type": "code",
    "id": "Hub-DywGXk6j"
   },
   "outputs": [],
   "source": [
    "def make_polynomial(x, maxorder): \n",
    "    X = np.ones_like(x)\n",
    "    for i in range(1,maxorder+1):\n",
    "        X = np.hstack((X,x**i))\n",
    "    return(X) "
   ]
  },
  {
   "cell_type": "markdown",
   "metadata": {
    "colab_type": "text",
    "id": "6qz4wL8ZXk6l"
   },
   "source": [
    "#### Construct the design matrix with a predefined maximum polynomial order "
   ]
  },
  {
   "cell_type": "code",
   "execution_count": 25,
   "metadata": {
    "colab": {},
    "colab_type": "code",
    "id": "XDJYAbx_Xk6m"
   },
   "outputs": [],
   "source": [
    "poly_order = 9\n",
    "X_train = make_polynomial(x, poly_order) "
   ]
  },
  {
   "cell_type": "markdown",
   "metadata": {},
   "source": [
    "#### Fit a linear regression model with polynomial matrix and print out the training loss"
   ]
  },
  {
   "cell_type": "code",
   "execution_count": 26,
   "metadata": {
    "colab": {},
    "colab_type": "code",
    "id": "vi5I9fcHXk6o",
    "outputId": "d3d81c3f-0523-47be-dd21-45a09929783b"
   },
   "outputs": [
    {
     "name": "stdout",
     "output_type": "stream",
     "text": [
      "loss at order  9  : 31226.73409313173\n"
     ]
    }
   ],
   "source": [
    "from sklearn.linear_model import LinearRegression\n",
    "poly_reg = LinearRegression().fit(X_train, t) # Fit a linear model\n",
    "print('loss at order ', poly_order, ' :', np.mean((t - poly_reg.predict(X_train))**2 ) )"
   ]
  },
  {
   "cell_type": "markdown",
   "metadata": {},
   "source": [
    "#### Plot the fitted model and data"
   ]
  },
  {
   "cell_type": "code",
   "execution_count": 27,
   "metadata": {
    "colab": {},
    "colab_type": "code",
    "id": "-p2FPiN7Xk6q",
    "outputId": "fd9c02ac-11a1-4b33-c698-63f221ad32ef"
   },
   "outputs": [
    {
     "data": {
      "text/plain": [
       "Text(0, 0.5, 'Time (seconds)')"
      ]
     },
     "execution_count": 27,
     "metadata": {},
     "output_type": "execute_result"
    },
    {
     "data": {
      "image/png": "[encoded data removed]",
      "text/plain": [
       "<Figure size 432x288 with 1 Axes>"
      ]
     },
     "metadata": {
      "needs_background": "light"
     },
     "output_type": "display_data"
    }
   ],
   "source": [
    "x_test = np.linspace(1880,2020, 100)[:,None] # test data\n",
    "x_test = transform(x_test) # do the same rescaling to the test data \n",
    "X_test = make_polynomial(x_test, poly_order) # construct the polynomial matrix for test data\n",
    "f_test = poly_reg.predict(X_test)\n",
    "plt.plot(x_test,f_test,'b-',linewidth=2) # plot the fitted data\n",
    "plt.scatter(x,t) # draw a scatter plot\n",
    "plt.xlabel('Years') # always label x&y-axis\n",
    "plt.ylabel('Time (seconds)') # always label x&y-axis"
   ]
  },
  {
   "cell_type": "markdown",
   "metadata": {
    "colab_type": "text",
    "id": "KEfLVys_Xk6s"
   },
   "source": [
    "### Choosing Polynomial order with Cross-Validation\n",
    "\n",
    "#### Cross-Validation with a given Polynomial order."
   ]
  },
  {
   "cell_type": "code",
   "execution_count": 34,
   "metadata": {
    "colab": {},
    "colab_type": "code",
    "id": "ZNooAiyIXk6s",
    "outputId": "49773bc6-230e-40c8-bc7d-5fd05532763d"
   },
   "outputs": [
    {
     "name": "stdout",
     "output_type": "stream",
     "text": [
      "TRAIN: [20 21 22 23 24 25 26 27 28 29 30 31 32 33 34 35 36 37 38 39 40 41 42 43\n",
      " 44 45 46 47 48 49 50 51 52 53 54 55 56 57 58 59 60 61 62 63 64 65 66 67\n",
      " 68 69 70 71 72 73 74 75 76 77 78 79 80 81 82 83 84 85 86 87 88 89 90 91\n",
      " 92 93 94 95 96 97 98 99] TEST: [ 0  1  2  3  4  5  6  7  8  9 10 11 12 13 14 15 16 17 18 19]\n",
      "TRAIN: [ 0  1  2  3  4  5  6  7  8  9 10 11 12 13 14 15 16 17 18 19 40 41 42 43\n",
      " 44 45 46 47 48 49 50 51 52 53 54 55 56 57 58 59 60 61 62 63 64 65 66 67\n",
      " 68 69 70 71 72 73 74 75 76 77 78 79 80 81 82 83 84 85 86 87 88 89 90 91\n",
      " 92 93 94 95 96 97 98 99] TEST: [20 21 22 23 24 25 26 27 28 29 30 31 32 33 34 35 36 37 38 39]\n",
      "TRAIN: [ 0  1  2  3  4  5  6  7  8  9 10 11 12 13 14 15 16 17 18 19 20 21 22 23\n",
      " 24 25 26 27 28 29 30 31 32 33 34 35 36 37 38 39 60 61 62 63 64 65 66 67\n",
      " 68 69 70 71 72 73 74 75 76 77 78 79 80 81 82 83 84 85 86 87 88 89 90 91\n",
      " 92 93 94 95 96 97 98 99] TEST: [40 41 42 43 44 45 46 47 48 49 50 51 52 53 54 55 56 57 58 59]\n",
      "TRAIN: [ 0  1  2  3  4  5  6  7  8  9 10 11 12 13 14 15 16 17 18 19 20 21 22 23\n",
      " 24 25 26 27 28 29 30 31 32 33 34 35 36 37 38 39 40 41 42 43 44 45 46 47\n",
      " 48 49 50 51 52 53 54 55 56 57 58 59 80 81 82 83 84 85 86 87 88 89 90 91\n",
      " 92 93 94 95 96 97 98 99] TEST: [60 61 62 63 64 65 66 67 68 69 70 71 72 73 74 75 76 77 78 79]\n",
      "TRAIN: [ 0  1  2  3  4  5  6  7  8  9 10 11 12 13 14 15 16 17 18 19 20 21 22 23\n",
      " 24 25 26 27 28 29 30 31 32 33 34 35 36 37 38 39 40 41 42 43 44 45 46 47\n",
      " 48 49 50 51 52 53 54 55 56 57 58 59 60 61 62 63 64 65 66 67 68 69 70 71\n",
      " 72 73 74 75 76 77 78 79] TEST: [80 81 82 83 84 85 86 87 88 89 90 91 92 93 94 95 96 97 98 99]\n",
      "[33629.35028243309, 24308.885630064215, 62333.061677788755, 44750.554602390446, 53702.36392181495]\n",
      "43744.84322289829\n"
     ]
    }
   ],
   "source": [
    "from sklearn.model_selection import KFold \n",
    "cv = KFold(n_splits = 5) # call KFold to set up CV \n",
    "loss = [] # initiate a set to collect loss\n",
    "reg =  LinearRegression() # call a linear regression model\n",
    "\n",
    "poly_order = 9 \n",
    "X_train = make_polynomial(x, poly_order)\n",
    "\n",
    "for train_index, test_index in cv.split(X_train): \n",
    "    print('TRAIN:', train_index, 'TEST:', test_index)\n",
    "    X_train_cv, X_test_cv = X_train[train_index], X_train[test_index] # select X for training and testing\n",
    "    t_train_cv, t_test_cv = t[train_index], t[test_index] # select t for training and testing\n",
    "    reg.fit(X_train_cv, t_train_cv) # fit a model on the training data \n",
    "    loss.append( np.mean(( t_test_cv - reg.predict(X_test_cv) )**2 ) ) # compute loss on test data\n",
    "print(loss) # print loss across fold\n",
    "print(np.mean(loss)) # print average loss at this polynomial order"
   ]
  },
  {
   "cell_type": "markdown",
   "metadata": {
    "colab_type": "text",
    "id": "OF5cgMBjXk6u"
   },
   "source": [
    "#### Cross-Validation for a range of Polynomial orders."
   ]
  },
  {
   "cell_type": "code",
   "execution_count": 35,
   "metadata": {
    "colab": {},
    "colab_type": "code",
    "id": "uVJMbYJXXk6v",
    "outputId": "0960ffa1-955c-40c5-a292-ffa1a5a012ee"
   },
   "outputs": [
    {
     "data": {
      "text/plain": [
       "Text(0, 0.5, 'Log Loss')"
      ]
     },
     "execution_count": 35,
     "metadata": {},
     "output_type": "execute_result"
    },
    {
     "data": {
      "image/png": "[encoded data removed]",
      "text/plain": [
       "<Figure size 432x288 with 1 Axes>"
      ]
     },
     "metadata": {
      "needs_background": "light"
     },
     "output_type": "display_data"
    }
   ],
   "source": [
    "cv = KFold(n_splits = 10) # call KFold to set up CV \n",
    "reg = LinearRegression() # call a linear regression model\n",
    "all_loss = [] # initiate a set to collect loss\n",
    "\n",
    "for i in range(9):  # 1st for loop over polynomial orders \n",
    "    poly_order = i\n",
    "    X_train = make_polynomial(x, poly_order) \n",
    "    loss_at_order = [] # initiate a set to collect loss for CV\n",
    "    for train_index, test_index in cv.split(X_train): # 2nd for loop for cross-validation\n",
    "        X_train_cv, X_test_cv = X_train[train_index], X_train[test_index] # select X for training and testing\n",
    "        t_train_cv, t_test_cv = t[train_index], t[test_index] # select t for training and testing\n",
    "        reg.fit(X_train_cv, t_train_cv) # fit a model on the training data \n",
    "        loss_at_order.append( np.mean(( t_test_cv - reg.predict(X_test_cv) )**2 ) ) # collect loss at fold\n",
    "    all_loss.append(np.mean(loss_at_order)) # collect loss at order\n",
    "plt.plot(np.log(all_loss), 'bo-') # plot log(loss) at order\n",
    "plt.xlabel('Polynomial Order') # always label x&y-axis\n",
    "plt.ylabel('Log Loss') # always label x&y-axis"
   ]
  },
  {
   "cell_type": "markdown",
   "metadata": {
    "colab_type": "text",
    "id": "1VO_NbwVXk6x"
   },
   "source": [
    "### Cross-Validation for Polynomial order on new data"
   ]
  },
  {
   "cell_type": "code",
   "execution_count": 36,
   "metadata": {
    "colab": {},
    "colab_type": "code",
    "id": "aRd-_kmaXk6y"
   },
   "outputs": [],
   "source": [
    "np.random.seed(1) # fix random seed such that every time get the same random numbers\n",
    "\n",
    "N = 100 # total number of data points \n",
    "x = 10*np.random.rand(N,1) - 5 # generate random x\n",
    "t = 5*x**3 - x**2 + x + 200*np.random.randn(N,1) # generate t according to the true model with additive noise\n",
    "\n",
    "N_independent_test = 50 # total number of independent testing data points \n",
    "x_independent_test = 10*np.random.rand(N_independent_test,1) - 5 # generate independent testing x\n",
    "t_independent_test = 5*x_independent_test**3 - x_independent_test**2 + x_independent_test + 200*np.random.randn(N_independent_test,1) # generate independent testing t with noise"
   ]
  },
  {
   "cell_type": "markdown",
   "metadata": {
    "colab_type": "text",
    "id": "s0OVe-mcXk60"
   },
   "source": [
    "### Plot new data."
   ]
  },
  {
   "cell_type": "code",
   "execution_count": 37,
   "metadata": {
    "colab": {},
    "colab_type": "code",
    "id": "HW5UBmVyXk60",
    "outputId": "2f80a02c-4a40-48f2-fa55-e5810d73391a"
   },
   "outputs": [
    {
     "data": {
      "text/plain": [
       "Text(0, 0.5, 't')"
      ]
     },
     "execution_count": 37,
     "metadata": {},
     "output_type": "execute_result"
    },
    {
     "data": {
      "image/png": "[encoded data removed]",
      "text/plain": [
       "<Figure size 432x288 with 1 Axes>"
      ]
     },
     "metadata": {
      "needs_background": "light"
     },
     "output_type": "display_data"
    }
   ],
   "source": [
    "plt.plot(x, t, 'ro')\n",
    "plt.xlabel('x')\n",
    "plt.ylabel('t')"
   ]
  },
  {
   "cell_type": "markdown",
   "metadata": {
    "colab_type": "text",
    "id": "tX_DnH4yXk62"
   },
   "source": [
    "#### Redo Cross-Validation for Polynomial order on new data. Plot CV loss, training loss, and loss on the independent test set"
   ]
  },
  {
   "cell_type": "code",
   "execution_count": 38,
   "metadata": {
    "colab": {},
    "colab_type": "code",
    "id": "Lf-M6a-JXk63",
    "outputId": "03ba8c85-a3f6-4488-f590-2bcf96937481"
   },
   "outputs": [
    {
     "data": {
      "text/plain": [
       "Text(0, 0.5, 'Log Loss')"
      ]
     },
     "execution_count": 38,
     "metadata": {},
     "output_type": "execute_result"
    },
    {
     "data": {
      "image/png": "[encoded data removed]",
      "text/plain": [
       "<Figure size 432x288 with 1 Axes>"
      ]
     },
     "metadata": {
      "needs_background": "light"
     },
     "output_type": "display_data"
    }
   ],
   "source": [
    "cv = KFold(n_splits = 10)\n",
    "reg = LinearRegression() # model for CV\n",
    "reg_train = LinearRegression() # model for loss on training and independent test \n",
    "\n",
    "all_loss = []\n",
    "all_loss_trian = []\n",
    "all_loss_independent_test = []\n",
    "\n",
    "for i in range(9):  # 1st for loop over polynomial order\n",
    "    \n",
    "    poly_order = i\n",
    "   \n",
    "    X_train = make_polynomial(x, poly_order) # construct polynomial matrix for all training data\n",
    "    #poly_reg = reg.fit(X_train, t) # fit model on all training data\n",
    "    reg_train.fit(X_train, t)\n",
    "    all_loss_trian.append( np.mean( (t - reg_train.predict(X_train))**2 ) ) # collect training loss\n",
    "    \n",
    "    X_test = make_polynomial(x_independent_test, poly_order) #construct polynomial matrix for the independent test data\n",
    "    \n",
    "    all_loss_independent_test.append(\n",
    "        np.mean( (t_independent_test - reg_train.predict(X_test))**2 ) ) # collect loss on independent test data\n",
    "    \n",
    "    loss_at_order = [] \n",
    "    for train_index, test_index in cv.split(X_train): # 2nd for loop over folds\n",
    "        X_train_cv, X_test_cv = X_train[train_index], X_train[test_index] # select X for training and testing\n",
    "        t_train_cv, t_test_cv = t[train_index], t[test_index] # select t for training and testing\n",
    "        reg_train.fit(X_train_cv, t_train_cv) # fit a model on the training data \n",
    "        loss_at_order.append( np.mean(( t_test_cv - reg_train.predict(X_test_cv) )**2 ) ) # collect loss at fold\n",
    "    all_loss.append(np.mean(loss_at_order)) # collect loss at order\n",
    "\n",
    "plt.plot(np.log(all_loss), 'ro-') \n",
    "plt.plot(np.log(all_loss_trian), 'bo-')\n",
    "plt.plot(np.log(all_loss_independent_test), 'go-')\n",
    "plt.xlabel('Polynomial Order') # always label x&y-axis\n",
    "plt.ylabel('Log Loss') # always label x&y-axis"
   ]
  },
  {
   "cell_type": "markdown",
   "metadata": {
    "colab_type": "text",
    "id": "GFonG-XmXk65"
   },
   "source": [
    "### Polynomial Linear Regression with L2 regression.\n",
    "\n",
    "$$ \\hat{\\mathbf{w}}_{ridge} = \\underset{\\mathbf{w} }{\\mathrm{argmin}}\n",
    " \\frac{1}{N} (\\mathbf{t} - \\mathbf{X}\\mathbf{w} )^{T} (\\mathbf{t} - \\mathbf{X}\\mathbf{w} ) + \\alpha \\mathbf{w}^T \\mathbf{w}$$\n",
    "check out https://scikit-learn.org/stable/modules/generated/sklearn.linear_model.Ridge.html for `Ridge`\n",
    "check out https://scikit-learn.org/stable/modules/generated/sklearn.model_selection.GridSearchCV.html for `GridSearchCV`"
   ]
  },
  {
   "cell_type": "code",
   "execution_count": 40,
   "metadata": {
    "colab": {},
    "colab_type": "code",
    "id": "noGwbTQKXk66",
    "outputId": "f6674eb7-5679-43a1-dae4-17947c4e6952"
   },
   "outputs": [
    {
     "data": {
      "text/plain": [
       "Text(0, 0.5, 'Time (seconds)')"
      ]
     },
     "execution_count": 40,
     "metadata": {},
     "output_type": "execute_result"
    },
    {
     "data": {
      "image/png": "[encoded data removed]",
      "text/plain": [
       "<Figure size 432x288 with 1 Axes>"
      ]
     },
     "metadata": {
      "needs_background": "light"
     },
     "output_type": "display_data"
    }
   ],
   "source": [
    "from sklearn.linear_model import Ridge\n",
    "from sklearn.model_selection import GridSearchCV\n",
    "\n",
    "poly_order = 10\n",
    "X_train = make_polynomial(x, poly_order) # construct polynomial matrix on training data\n",
    "\n",
    "x_test = np.linspace(-5,5, 100)[:,None] # generate x_test for plotting\n",
    "X_test = make_polynomial(x_test, poly_order) # construct polynomial matrix on x_test\n",
    "\n",
    "ridge = Ridge() # call ridge model\n",
    "parameters = {'alpha': np.linspace(1, 10, 20)} # set out search grid for alpha\n",
    "ridge_model = GridSearchCV(ridge, parameters, scoring = 'neg_mean_squared_error', cv=5) # Define CV on the search grid to define alpha\n",
    "ridge_model.fit(X_train, t) # Fit training data\n",
    "\n",
    "plt.plot(x_test, ridge_model.predict(X_test)) # plot the model\n",
    "plt.scatter(x,t) # draw a scatter plot\n",
    "plt.xlabel('Years') # always label x&y-axis\n",
    "plt.ylabel('Time (seconds)') # always label x&y-axis"
   ]
  },
  {
   "cell_type": "markdown",
   "metadata": {
    "colab_type": "text",
    "id": "qUhRi2K-Xk68"
   },
   "source": [
    "### Practice linear regression with RBF. \n",
    "\n",
    "Write you own function to construct the design matrix with RBF\n",
    "\n",
    "$$ h_k(x) = \\exp \\left( -\\frac{ (x-\\mbox{center}[k]) ^2}{2\\mbox{width}}  \\right)$$"
   ]
  },
  {
   "cell_type": "code",
   "execution_count": 41,
   "metadata": {
    "colab": {},
    "colab_type": "code",
    "id": "ad-KLTWfXk68"
   },
   "outputs": [],
   "source": [
    "def make_rbf(x, center, width):  # again np.hstack is very helpful\n",
    "    #X = np.exp( -( (x - np.mean(center, axis=1) )**2  / (2 * width) ) )\n",
    "    X = np.exp ( -0.5 * (x-center[0])**2/width )  \n",
    "    for i in range (len(center))[1:]:\n",
    "        X = np.hstack( (X,np.exp( -0.5 * (x-center[i])**2/width )) )\n",
    "    return(X)"
   ]
  },
  {
   "cell_type": "markdown",
   "metadata": {
    "colab_type": "text",
    "id": "iDsObhKTXk7C"
   },
   "source": [
    "#### Construct  the design matrix with $x$ itself as the center parameter\n",
    "Start with `width = 10` and test different values"
   ]
  },
  {
   "cell_type": "code",
   "execution_count": 42,
   "metadata": {
    "colab": {},
    "colab_type": "code",
    "id": "2QH2knFRXk7C",
    "outputId": "d0a26d6e-c22d-4b87-8953-dcae28869b97"
   },
   "outputs": [
    {
     "data": {
      "text/plain": [
       "(100, 100)"
      ]
     },
     "execution_count": 42,
     "metadata": {},
     "output_type": "execute_result"
    }
   ],
   "source": [
    "center = x \n",
    "width = 10\n",
    "X_rbf = make_rbf(x, center, width)\n",
    "X_rbf.shape"
   ]
  },
  {
   "cell_type": "markdown",
   "metadata": {
    "colab_type": "text",
    "id": "FIrY5QJpXk7F"
   },
   "source": [
    "#### Fit a linear regression model with X constructed by RBF"
   ]
  },
  {
   "cell_type": "code",
   "execution_count": 43,
   "metadata": {
    "colab": {},
    "colab_type": "code",
    "id": "JUy4spXTXk7F",
    "outputId": "14baeefc-b4b2-4dd0-bf09-85463236fd85"
   },
   "outputs": [
    {
     "data": {
      "text/plain": [
       "Text(0, 0.5, 'x')"
      ]
     },
     "execution_count": 43,
     "metadata": {},
     "output_type": "execute_result"
    },
    {
     "data": {
      "image/png": "[encoded data removed]",
      "text/plain": [
       "<Figure size 432x288 with 1 Axes>"
      ]
     },
     "metadata": {
      "needs_background": "light"
     },
     "output_type": "display_data"
    }
   ],
   "source": [
    "\n",
    "x_test = np.linspace(5,-5,100)[:,None]\n",
    "#print( x_test.shape)\n",
    "X_test = make_rbf(x_test, center, width)\n",
    "#print( X_test.shape)\n",
    "\n",
    "reg = LinearRegression()\n",
    "reg.fit(X_rbf, t)\n",
    "\n",
    "plt.plot(x_test, reg.predict(X_test))\n",
    "plt.scatter(x,t) # draw a scatter plot\n",
    "plt.xlabel('t') # always label x&y-axis\n",
    "plt.ylabel('x') # always label x&y-axis"
   ]
  }
 ],
 "metadata": {
  "colab": {
   "name": "ML4DS_week2_lab_with_solutions.ipynb",
   "provenance": []
  },
  "kernelspec": {
   "display_name": "Python 3",
   "language": "python",
   "name": "python3"
  },
  "language_info": {
   "codemirror_mode": {
    "name": "ipython",
    "version": 3
   },
   "file_extension": ".py",
   "mimetype": "text/x-python",
   "name": "python",
   "nbconvert_exporter": "python",
   "pygments_lexer": "ipython3",
   "version": "3.8.5"
  }
 },
 "nbformat": 4,
 "nbformat_minor": 1
}
